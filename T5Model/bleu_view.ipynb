{
 "metadata": {
  "language_info": {
   "codemirror_mode": {
    "name": "ipython",
    "version": 3
   },
   "file_extension": ".py",
   "mimetype": "text/x-python",
   "name": "python",
   "nbconvert_exporter": "python",
   "pygments_lexer": "ipython3",
   "version": "3.7.5"
  },
  "orig_nbformat": 2,
  "kernelspec": {
   "name": "python375jvsc74a57bd0ab77c411208d9b4312bf5a9aa8cd23e7167607179184dc044c37d4e22569326c",
   "display_name": "Python 3.7.5 64-bit ('pytorch': conda)"
  }
 },
 "nbformat": 4,
 "nbformat_minor": 2,
 "cells": [
  {
   "cell_type": "code",
   "execution_count": 1,
   "metadata": {},
   "outputs": [],
   "source": [
    "import pandas as pd"
   ]
  },
  {
   "cell_type": "code",
   "execution_count": 10,
   "metadata": {},
   "outputs": [],
   "source": [
    "df = pd.read_json('../data/predict/predict2/test_predict_columns.json', orient='split')"
   ]
  },
  {
   "cell_type": "code",
   "execution_count": 11,
   "metadata": {},
   "outputs": [
    {
     "output_type": "execute_result",
     "data": {
      "text/plain": [
       "                                          predict_title  \\\n",
       "0     A Green's Function approach for estimating the...   \n",
       "1     Tracking Dialog States for Predicting Conseque...   \n",
       "2     Twinkle's Spectrometers as a Universal Observe...   \n",
       "3     Bayesian nonparametric forecasting, imputation...   \n",
       "4     A variational model for joint image reconstruc...   \n",
       "...                                                 ...   \n",
       "2241  Two-state confocal annular Josephson tunnel ju...   \n",
       "2242  On the appropriation of data science methods f...   \n",
       "2243  Uniqueness and shape optimization for tree lea...   \n",
       "2244  A numerical quadrature for the generalized Gau...   \n",
       "2245  Fast Acceleration for a Combining Source Integ...   \n",
       "\n",
       "                                           actual_title  \\\n",
       "0     Phonon localization in binary alloys with diag...   \n",
       "1     Explicit State Tracking with Semi-Supervision ...   \n",
       "2     Exoplanet Spectroscopy and Photometry with the...   \n",
       "3     Temporally-Reweighted Chinese Restaurant Proce...   \n",
       "4     A New Variational Model for Joint Image Recons...   \n",
       "...                                                 ...   \n",
       "2241  Josephson Vortex Qubit based on a Confocal Ann...   \n",
       "2242     The Agnostic Structure of Data Science Methods   \n",
       "2243  On a Shape Optimization Problem for Tree Branches   \n",
       "2244  Inverse Gaussian quadrature and finite normal-...   \n",
       "2245  A Weak-Form Combined Source Integral Equation ...   \n",
       "\n",
       "                                        actual_abstract      bleu  \n",
       "0     We report the development and application of a...  0.367459  \n",
       "1     The task of dialogue generation aims to automa...  0.330936  \n",
       "2     The Twinkle space telescope has been designed ...  0.352999  \n",
       "3     This article proposes a Bayesian nonparametric...  0.214105  \n",
       "4     We propose a new variational model for joint i...  0.370384  \n",
       "...                                                 ...       ...  \n",
       "2241  We report theoretical and experimental work on...  0.099427  \n",
       "2242  In this paper we argue that data science is a ...  0.100000  \n",
       "2243  This paper is concerned with a shape optimizat...  0.062500  \n",
       "2244  In this study, a numerical quadrature for the ...  0.379082  \n",
       "2245  The combined source integral equation for the ...  0.389250  \n",
       "\n",
       "[2246 rows x 4 columns]"
      ],
      "text/html": "<div>\n<style scoped>\n    .dataframe tbody tr th:only-of-type {\n        vertical-align: middle;\n    }\n\n    .dataframe tbody tr th {\n        vertical-align: top;\n    }\n\n    .dataframe thead th {\n        text-align: right;\n    }\n</style>\n<table border=\"1\" class=\"dataframe\">\n  <thead>\n    <tr style=\"text-align: right;\">\n      <th></th>\n      <th>predict_title</th>\n      <th>actual_title</th>\n      <th>actual_abstract</th>\n      <th>bleu</th>\n    </tr>\n  </thead>\n  <tbody>\n    <tr>\n      <th>0</th>\n      <td>A Green's Function approach for estimating the...</td>\n      <td>Phonon localization in binary alloys with diag...</td>\n      <td>We report the development and application of a...</td>\n      <td>0.367459</td>\n    </tr>\n    <tr>\n      <th>1</th>\n      <td>Tracking Dialog States for Predicting Conseque...</td>\n      <td>Explicit State Tracking with Semi-Supervision ...</td>\n      <td>The task of dialogue generation aims to automa...</td>\n      <td>0.330936</td>\n    </tr>\n    <tr>\n      <th>2</th>\n      <td>Twinkle's Spectrometers as a Universal Observe...</td>\n      <td>Exoplanet Spectroscopy and Photometry with the...</td>\n      <td>The Twinkle space telescope has been designed ...</td>\n      <td>0.352999</td>\n    </tr>\n    <tr>\n      <th>3</th>\n      <td>Bayesian nonparametric forecasting, imputation...</td>\n      <td>Temporally-Reweighted Chinese Restaurant Proce...</td>\n      <td>This article proposes a Bayesian nonparametric...</td>\n      <td>0.214105</td>\n    </tr>\n    <tr>\n      <th>4</th>\n      <td>A variational model for joint image reconstruc...</td>\n      <td>A New Variational Model for Joint Image Recons...</td>\n      <td>We propose a new variational model for joint i...</td>\n      <td>0.370384</td>\n    </tr>\n    <tr>\n      <th>...</th>\n      <td>...</td>\n      <td>...</td>\n      <td>...</td>\n      <td>...</td>\n    </tr>\n    <tr>\n      <th>2241</th>\n      <td>Two-state confocal annular Josephson tunnel ju...</td>\n      <td>Josephson Vortex Qubit based on a Confocal Ann...</td>\n      <td>We report theoretical and experimental work on...</td>\n      <td>0.099427</td>\n    </tr>\n    <tr>\n      <th>2242</th>\n      <td>On the appropriation of data science methods f...</td>\n      <td>The Agnostic Structure of Data Science Methods</td>\n      <td>In this paper we argue that data science is a ...</td>\n      <td>0.100000</td>\n    </tr>\n    <tr>\n      <th>2243</th>\n      <td>Uniqueness and shape optimization for tree lea...</td>\n      <td>On a Shape Optimization Problem for Tree Branches</td>\n      <td>This paper is concerned with a shape optimizat...</td>\n      <td>0.062500</td>\n    </tr>\n    <tr>\n      <th>2244</th>\n      <td>A numerical quadrature for the generalized Gau...</td>\n      <td>Inverse Gaussian quadrature and finite normal-...</td>\n      <td>In this study, a numerical quadrature for the ...</td>\n      <td>0.379082</td>\n    </tr>\n    <tr>\n      <th>2245</th>\n      <td>Fast Acceleration for a Combining Source Integ...</td>\n      <td>A Weak-Form Combined Source Integral Equation ...</td>\n      <td>The combined source integral equation for the ...</td>\n      <td>0.389250</td>\n    </tr>\n  </tbody>\n</table>\n<p>2246 rows × 4 columns</p>\n</div>"
     },
     "metadata": {},
     "execution_count": 11
    }
   ],
   "source": [
    "df"
   ]
  },
  {
   "cell_type": "code",
   "execution_count": 12,
   "metadata": {},
   "outputs": [
    {
     "output_type": "execute_result",
     "data": {
      "text/plain": [
       "predict_title      268\n",
       "actual_title       268\n",
       "actual_abstract    268\n",
       "bleu               268\n",
       "dtype: int64"
      ]
     },
     "metadata": {},
     "execution_count": 12
    }
   ],
   "source": [
    "df[df['bleu']>0.5].count()"
   ]
  },
  {
   "cell_type": "code",
   "execution_count": 5,
   "metadata": {},
   "outputs": [
    {
     "output_type": "execute_result",
     "data": {
      "text/plain": [
       "['s enjoy a number of approximation properties, most famously the completely positive',\n",
       " 'Decomposable approximations revisited',\n",
       " 'Nuclear C*-algebras enjoy a number of approximation properties, most famously the completely positive approximation property. This was recently sharpened to arrange for the incoming maps to be sums of order-zero maps. We show that, in addition, the outgoing maps can be chosen to be asymptotically order-zero. Further these maps can be chosen to be asymptotically multiplicative if and only if the C*-algebra and all its traces are quasidiagonal.',\n",
       " 0.3684210526]"
      ]
     },
     "metadata": {},
     "execution_count": 5
    }
   ],
   "source": [
    "df.iloc[1002].to_list()"
   ]
  },
  {
   "cell_type": "code",
   "execution_count": 13,
   "metadata": {},
   "outputs": [
    {
     "output_type": "execute_result",
     "data": {
      "text/plain": [
       "0.2721527714766251"
      ]
     },
     "metadata": {},
     "execution_count": 13
    }
   ],
   "source": [
    "df['bleu'].mean()"
   ]
  },
  {
   "cell_type": "code",
   "execution_count": null,
   "metadata": {},
   "outputs": [],
   "source": []
  }
 ]
}